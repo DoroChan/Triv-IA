{
 "cells": [
  {
   "cell_type": "code",
   "execution_count": 34,
   "metadata": {},
   "outputs": [
    {
     "name": "stdout",
     "output_type": "stream",
     "text": [
      "01 02 03 04 05 06 07 08 09 10 11 12 \n",
      "36                               13\n",
      "35                               14\n",
      "34                               15\n",
      "33                               16\n",
      "32                               17\n",
      "31                               18\n",
      "30 29 28 27 26 25 24 23 22 21 20 19 "
     ]
    }
   ],
   "source": [
    "for i in range(1,13):\n",
    "    if i < 10:\n",
    "        print(f'0{i}', end=' ')\n",
    "    else:\n",
    "        print(i, end=' ')\n",
    "print('')\n",
    "\n",
    "\n",
    "c = 36\n",
    "c1 = 13\n",
    "while c >= 31:\n",
    "    print(c, end=' ')\n",
    "    print(' '* 29, end=' ')\n",
    "    print(c1)\n",
    "    c -= 1\n",
    "    c1 +=1\n",
    "for i in range(30, 18, -1):\n",
    "    print(i, end = ' ')"
   ]
  },
  {
   "cell_type": "code",
   "execution_count": 46,
   "metadata": {},
   "outputs": [
    {
     "name": "stdout",
     "output_type": "stream",
     "text": [
      "1\n",
      "7\n",
      "13\n",
      "19\n",
      "25\n",
      "31\n"
     ]
    }
   ],
   "source": [
    "from case import Case\n",
    "import random\n",
    "\n",
    "types_possibles = ['Camembert', 'Normale']\n",
    "categories = ['Base de données', 'Python', 'Unix', 'Actu IA', 'Devops',\"Personnalité de l'IA\"]\n",
    "indice_cases_camembert = [1,7,13,19,25,31]\n",
    "\n",
    "liste_cases = []\n",
    "cat = categories.copy()\n",
    "for i in indice_cases_camembert:\n",
    "    \n",
    "    cat_case = random.choice(cat)\n",
    "    cat.remove(cat_case)\n",
    "    new_case = Case(categorie= cat_case,position = i, type = types_possibles[0])\n",
    "    liste_cases.append(new_case)\n",
    "\n",
    "\n",
    "\n",
    "\n",
    "\n",
    "for i in liste_cases:\n",
    "    print(i.position)\n",
    "\n",
    "\n",
    "\n"
   ]
  },
  {
   "cell_type": "code",
   "execution_count": 129,
   "metadata": {},
   "outputs": [
    {
     "name": "stdout",
     "output_type": "stream",
     "text": [
      "Camembert, 1,  Base de données\n",
      "Normale, 2,  Python\n",
      "Normale, 3,  Personnalité de l'IA\n",
      "Normale, 4,  Actu IA\n",
      "Normale, 5,  Devops\n",
      "Normale, 6,  Unix\n",
      "Camembert, 7,  Unix\n",
      "Normale, 8,  Personnalité de l'IA\n",
      "Normale, 9,  Actu IA\n",
      "Normale, 10,  Devops\n",
      "Normale, 11,  Python\n",
      "Normale, 12,  Base de données\n",
      "Camembert, 13,  Python\n",
      "Normale, 14,  Unix\n",
      "Normale, 15,  Actu IA\n",
      "Normale, 16,  Personnalité de l'IA\n",
      "Normale, 17,  Devops\n",
      "Normale, 18,  Base de données\n",
      "Camembert, 19,  Devops\n",
      "Normale, 20,  Personnalité de l'IA\n",
      "Normale, 21,  Unix\n",
      "Normale, 22,  Base de données\n",
      "Normale, 23,  Python\n",
      "Normale, 24,  Actu IA\n",
      "Camembert, 25,  Personnalité de l'IA\n",
      "Normale, 26,  Python\n",
      "Normale, 27,  Actu IA\n",
      "Normale, 28,  Devops\n",
      "Normale, 29,  Unix\n",
      "Normale, 30,  Base de données\n",
      "Camembert, 31,  Actu IA\n",
      "Normale, 32,  Personnalité de l'IA\n",
      "Normale, 33,  Devops\n",
      "Normale, 34,  Unix\n",
      "Normale, 35,  Python\n",
      "Normale, 36,  Base de données\n"
     ]
    }
   ],
   "source": [
    "from case import Case\n",
    "import random\n",
    "\n",
    "\n",
    "\n",
    "types_possibles = ['Camembert', 'Normale']\n",
    "categories = ['Base de données', 'Python', 'Unix', 'Actu IA', 'Devops',\"Personnalité de l'IA\"]\n",
    "\n",
    "\n",
    "liste_cases = []\n",
    "cat_cam = categories.copy()\n",
    "for i in range(1,37):\n",
    "    if i == 1 or i % 6 == 1:\n",
    "        cat_case = random.choice(cat_cam)\n",
    "        cat_cam.remove(cat_case)\n",
    "        new_case = Case(categorie= cat_case,position = i, type = types_possibles[0])\n",
    "        liste_cases.append(new_case)\n",
    "        cat = categories.copy()\n",
    "        cat.remove(cat_case)\n",
    "\n",
    "\n",
    "    else:\n",
    "        cat_case_normale = random.choice(cat)\n",
    "        cat.remove(cat_case_normale)\n",
    "        new_case = Case(categorie= cat_case_normale,position = i, type = types_possibles[1])\n",
    "        liste_cases.append(new_case)\n",
    "\n",
    "\n",
    "\n",
    "for i in liste_cases:\n",
    "    print(f'{i.type}, {i.position},  {i.categorie}')"
   ]
  },
  {
   "cell_type": "code",
   "execution_count": 64,
   "metadata": {},
   "outputs": [
    {
     "data": {
      "text/plain": [
       "[<case.Case at 0x7e71e917b920>,\n",
       " <case.Case at 0x7e71e917aa20>,\n",
       " <case.Case at 0x7e71e9179970>,\n",
       " <case.Case at 0x7e71e9179d30>,\n",
       " <case.Case at 0x7e71e917b4d0>,\n",
       " <case.Case at 0x7e71e917b8f0>,\n",
       " <case.Case at 0x7e71e9179be0>,\n",
       " <case.Case at 0x7e71e9179130>,\n",
       " <case.Case at 0x7e71e917bcb0>,\n",
       " <case.Case at 0x7e71e9179190>,\n",
       " <case.Case at 0x7e71e91794f0>,\n",
       " <case.Case at 0x7e71e9179b50>,\n",
       " <case.Case at 0x7e71e9179880>,\n",
       " <case.Case at 0x7e71e9179ca0>,\n",
       " <case.Case at 0x7e71e917aea0>,\n",
       " <case.Case at 0x7e71e9179ac0>,\n",
       " <case.Case at 0x7e71e9179250>,\n",
       " <case.Case at 0x7e71e9178d40>,\n",
       " <case.Case at 0x7e71e917ac30>,\n",
       " <case.Case at 0x7e71e9179ee0>,\n",
       " <case.Case at 0x7e71e917b140>,\n",
       " <case.Case at 0x7e71e9178620>,\n",
       " <case.Case at 0x7e71e9179f10>,\n",
       " <case.Case at 0x7e71e917bf80>,\n",
       " <case.Case at 0x7e71e91797c0>,\n",
       " <case.Case at 0x7e71e91793a0>,\n",
       " <case.Case at 0x7e71e917bd70>,\n",
       " <case.Case at 0x7e71e917bb90>,\n",
       " <case.Case at 0x7e71e917a750>,\n",
       " <case.Case at 0x7e71e917a1e0>,\n",
       " <case.Case at 0x7e71e9178dd0>,\n",
       " <case.Case at 0x7e71e917bef0>,\n",
       " <case.Case at 0x7e71e917ae70>,\n",
       " <case.Case at 0x7e71e917a690>,\n",
       " <case.Case at 0x7e71e917a8a0>,\n",
       " <case.Case at 0x7e71e917a5a0>]"
      ]
     },
     "execution_count": 64,
     "metadata": {},
     "output_type": "execute_result"
    }
   ],
   "source": [
    "liste_cases"
   ]
  },
  {
   "cell_type": "code",
   "execution_count": 132,
   "metadata": {},
   "outputs": [
    {
     "name": "stdout",
     "output_type": "stream",
     "text": [
      "🔵    🟩   🟪   🟨   🟧  🟥   🔴    🟪   🟨   🟧  🟩   🟦   \n",
      "\n",
      "🟦                                                       🟢\n",
      "\n",
      "🟩                                                       🟥\n",
      "\n",
      "🟥                                                       🟨\n",
      "\n",
      "🟧                                                       🟪\n",
      "\n",
      "🟪                                                       🟧\n",
      "\n",
      "🟡                                                        🟦\n",
      "\n",
      "🟦   🟥   🟧   🟨   🟩   🟣    🟨   🟩   🟦   🟥   🟪   🟠    "
     ]
    }
   ],
   "source": [
    "emojis = [\n",
    "    \"🟦\",  # Carré bleu\n",
    "    \"🟩\",  # Carré vert\n",
    "    \"🟥\",  # Carré rouge\n",
    "    \"🟨\",  # Carré jaune\n",
    "    \"🟧\",  # Carré orange\n",
    "    \"🟪\",  # Carré violet\n",
    "]\n",
    "\n",
    "emojis_ronds = [\n",
    "    \"🔵\",  # Cercle bleu\n",
    "    \"🟢\",  # Cercle vert\n",
    "    \"🔴\",  # Cercle rouge\n",
    "    \"🟡\",  # Cercle jaune\n",
    "    \"🟠\",  # Cercle orange\n",
    "    \"🟣\",  # Cercle violet\n",
    "]\n",
    "\n",
    "for i in range(1,13):\n",
    "    \n",
    "\n",
    "    \n",
    "    if liste_cases[i-1].categorie == categories[0]:\n",
    "        if liste_cases[i-1].type == types_possibles[0]:\n",
    "            print(emojis_ronds[0], end = '    ')\n",
    "        else:\n",
    "            print(emojis[0], end = '   ')\n",
    "\n",
    "    elif liste_cases[i-1].categorie == categories[1]:\n",
    "        if liste_cases[i-1].type == types_possibles[0]:\n",
    "            print(emojis_ronds[1], end = '    ')\n",
    "        else:\n",
    "            print(emojis[1], end = '   ')\n",
    "\n",
    "    elif liste_cases[i-1].categorie == categories[2]:\n",
    "        if liste_cases[i-1].type == types_possibles[0]:\n",
    "            print(emojis_ronds[2], end = '    ')\n",
    "        else:\n",
    "            print(emojis[2], end = '   ')\n",
    "\n",
    "    elif liste_cases[i-1].categorie == categories[3]:\n",
    "        if liste_cases[i-1].type == types_possibles[0]:\n",
    "            print(emojis_ronds[3], end = '    ')\n",
    "        else:\n",
    "            print(emojis[3], end = '   ')\n",
    "\n",
    "    elif liste_cases[i-1].categorie == categories[4]:\n",
    "        if liste_cases[i-1].type == types_possibles[0]:\n",
    "            print(emojis_ronds[4], end = '    ')\n",
    "        else:\n",
    "            print(emojis[4], end = '  ')\n",
    "\n",
    "    elif liste_cases[i-1].categorie == categories[5]:\n",
    "        if liste_cases[i-1].type == types_possibles[0]:\n",
    "            print(emojis_ronds[5], end = '    ')\n",
    "        else:\n",
    "            print(emojis[5], end = '   ')\n",
    "            \n",
    "print('\\n')\n",
    "\n",
    "\n",
    "c = 36\n",
    "c1 = 13\n",
    "while c >= 31:\n",
    "    if liste_cases[c-1].categorie == categories[0]:\n",
    "        if liste_cases[c-1].type == types_possibles[0]:\n",
    "            print(emojis_ronds[0], end = '    ')\n",
    "        else:\n",
    "            print(emojis[0], end = '   ')\n",
    "\n",
    "    elif liste_cases[c-1].categorie == categories[1]:\n",
    "        if liste_cases[c-1].type == types_possibles[0]:\n",
    "            print(emojis_ronds[1], end = '    ')\n",
    "        else:\n",
    "            print(emojis[1], end = '   ')\n",
    "\n",
    "    elif liste_cases[c-1].categorie == categories[2]:\n",
    "        if liste_cases[c-1].type == types_possibles[0]:\n",
    "            print(emojis_ronds[2], end = '    ')\n",
    "        else:\n",
    "            print(emojis[2], end = '   ')\n",
    "\n",
    "    elif liste_cases[c-1].categorie == categories[3]:\n",
    "        if liste_cases[c-1].type == types_possibles[0]:\n",
    "            print(emojis_ronds[3], end = '    ')\n",
    "        else:\n",
    "            print(emojis[3], end = '   ')\n",
    "\n",
    "    elif liste_cases[c-1].categorie == categories[4]:\n",
    "        if liste_cases[c-1].type == types_possibles[0]:\n",
    "            print(emojis_ronds[4], end = '   ')\n",
    "        else:\n",
    "            print(emojis[4],end = '   ')\n",
    "\n",
    "    elif liste_cases[c-1].categorie == categories[5]:\n",
    "        if liste_cases[c-1].type == types_possibles[0]:\n",
    "            print(emojis_ronds[5], end = '   ')\n",
    "        else:\n",
    "            print(emojis[5], end = '   ')\n",
    "            \n",
    "    print(' '* 49, end = '   ')\n",
    "\n",
    "    if liste_cases[c1-1].categorie == categories[0]:\n",
    "        if liste_cases[c1-1].type == types_possibles[0]:       \n",
    "            print(emojis_ronds[0], end='\\n\\n')\n",
    "        else:\n",
    "            print(emojis[0], end='\\n\\n')\n",
    "\n",
    "    elif liste_cases[c1-1].categorie == categories[1]:\n",
    "        if liste_cases[c1-1].type == types_possibles[0]:       \n",
    "            print(emojis_ronds[1], end='\\n\\n')\n",
    "        else:\n",
    "            print(emojis[1], end='\\n\\n')\n",
    "\n",
    "    elif liste_cases[c1-1].categorie == categories[2]:\n",
    "        if liste_cases[c1-1].type == types_possibles[0]:       \n",
    "            print(emojis_ronds[2], end='\\n\\n')\n",
    "        else:\n",
    "            print(emojis[2], end='\\n\\n')\n",
    "\n",
    "    elif liste_cases[c1-1].categorie == categories[3]:\n",
    "        if liste_cases[c1-1].type == types_possibles[0]:       \n",
    "            print(emojis_ronds[3], end='\\n\\n')\n",
    "        else:\n",
    "            print(emojis[3], end='\\n\\n')\n",
    "\n",
    "    elif liste_cases[c1-1].categorie == categories[4]:\n",
    "        if liste_cases[c1-1].type == types_possibles[0]:       \n",
    "            print(emojis_ronds[4], end='\\n\\n')\n",
    "        else:\n",
    "            print(emojis[4], end='\\n\\n')\n",
    "\n",
    "    elif liste_cases[c1-1].categorie == categories[5]:\n",
    "        if liste_cases[c1-1].type == types_possibles[0]:       \n",
    "            print(emojis_ronds[5], end='\\n\\n')\n",
    "        else:\n",
    "            print(emojis[5], end='\\n\\n')\n",
    "\n",
    "    c -= 1\n",
    "    c1 +=1\n",
    "\n",
    "\n",
    "for i in range(30, 18, -1):\n",
    "        \n",
    "        if liste_cases[i-1].categorie == categories[0]:\n",
    "            if liste_cases[i-1].type == types_possibles[0]:\n",
    "                print(emojis_ronds[0], end = '    ')\n",
    "            else:\n",
    "                print(emojis[0], end = '   ')\n",
    "\n",
    "        elif liste_cases[i-1].categorie == categories[1]:\n",
    "            if liste_cases[i-1].type == types_possibles[0]:\n",
    "                print(emojis_ronds[1], end = '    ')\n",
    "            else:\n",
    "                print(emojis[1], end = '   ')\n",
    "\n",
    "        elif liste_cases[i-1].categorie == categories[2]:\n",
    "            if liste_cases[i-1].type == types_possibles[0]:\n",
    "                print(emojis_ronds[2], end = '    ')\n",
    "            else:\n",
    "                print(emojis[2], end = '   ')\n",
    "\n",
    "        elif liste_cases[i-1].categorie == categories[3]:\n",
    "            if liste_cases[i-1].type == types_possibles[0]:\n",
    "                print(emojis_ronds[3], end = '    ')\n",
    "            else:\n",
    "                print(emojis[3], end = '   ')\n",
    "\n",
    "        elif liste_cases[i-1].categorie == categories[4]:\n",
    "            if liste_cases[i-1].type == types_possibles[0]:\n",
    "                print(emojis_ronds[4], end = '    ')\n",
    "            else:\n",
    "                print(emojis[4], end = '   ')\n",
    "\n",
    "        elif liste_cases[i-1].categorie == categories[5]:\n",
    "            if liste_cases[i-1].type == types_possibles[0]:\n",
    "                print(emojis_ronds[5], end = '    ')\n",
    "            else:\n",
    "                print(emojis[5], end = '   ')\n",
    "\n"
   ]
  },
  {
   "cell_type": "code",
   "execution_count": 100,
   "metadata": {},
   "outputs": [
    {
     "name": "stdout",
     "output_type": "stream",
     "text": [
      "01 02 03 04 05 06 07 08 09 10 11 12 \n",
      "36                               13\n",
      "35                               14\n",
      "34                               15\n",
      "33                               16\n",
      "32                               17\n",
      "31                               18\n",
      "30 29 28 27 26 25 24 23 22 21 20 19 "
     ]
    }
   ],
   "source": [
    "for i in range(1,13):\n",
    "\n",
    "    if i < 10:\n",
    "        print(f'0{i}', end=' ')\n",
    "    else:\n",
    "        print(i, end=' ')\n",
    "print('')\n",
    "\n",
    "\n",
    "c = 36\n",
    "c1 = 13\n",
    "while c >= 31:\n",
    "    print(c, end=' ')\n",
    "    print(' '* 29, end=' ')\n",
    "    print(c1)\n",
    "    c -= 1\n",
    "    c1 +=1\n",
    "for i in range(30, 18, -1):\n",
    "    print(i, end = ' ')"
   ]
  },
  {
   "cell_type": "code",
   "execution_count": 121,
   "metadata": {},
   "outputs": [
    {
     "data": {
      "text/plain": [
       "'Camembert'"
      ]
     },
     "execution_count": 121,
     "metadata": {},
     "output_type": "execute_result"
    }
   ],
   "source": [
    "\n",
    "liste_cases[24].type"
   ]
  },
  {
   "cell_type": "code",
   "execution_count": 133,
   "metadata": {},
   "outputs": [
    {
     "name": "stdout",
     "output_type": "stream",
     "text": [
      "🐱\n",
      "🐶\n",
      "🐻\n",
      "🐸\n",
      "🐯\n",
      "🐧\n"
     ]
    }
   ],
   "source": [
    "# Affichage de 6 emoji d'animaux rigolos\n",
    "animaux = [\n",
    "    \"🐱\",  # Chat\n",
    "    \"🐶\",  # Chien\n",
    "    \"🐻\",  # Ours\n",
    "    \"🐸\",  # Grenouille\n",
    "    \"🐯\",  # Tigre\n",
    "    \"🐧\"   # Pingouin\n",
    "]\n",
    "\n",
    "for animal in animaux:\n",
    "    print(animal)\n"
   ]
  },
  {
   "cell_type": "code",
   "execution_count": 136,
   "metadata": {},
   "outputs": [
    {
     "data": {
      "text/plain": [
       "'🐱'"
      ]
     },
     "execution_count": 136,
     "metadata": {},
     "output_type": "execute_result"
    }
   ],
   "source": [
    "import random\n",
    "truc = random.choice(animaux)\n",
    "truc"
   ]
  },
  {
   "cell_type": "code",
   "execution_count": 137,
   "metadata": {},
   "outputs": [
    {
     "data": {
      "text/plain": [
       "['🐶', '🐻', '🐸', '🐯', '🐧']"
      ]
     },
     "execution_count": 137,
     "metadata": {},
     "output_type": "execute_result"
    }
   ],
   "source": [
    "animaux.remove(truc)\n",
    "animaux"
   ]
  }
 ],
 "metadata": {
  "kernelspec": {
   "display_name": ".venv",
   "language": "python",
   "name": "python3"
  },
  "language_info": {
   "codemirror_mode": {
    "name": "ipython",
    "version": 3
   },
   "file_extension": ".py",
   "mimetype": "text/x-python",
   "name": "python",
   "nbconvert_exporter": "python",
   "pygments_lexer": "ipython3",
   "version": "3.12.3"
  }
 },
 "nbformat": 4,
 "nbformat_minor": 2
}
