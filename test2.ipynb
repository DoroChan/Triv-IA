{
 "cells": [
  {
   "cell_type": "code",
   "execution_count": 2,
   "metadata": {},
   "outputs": [
    {
     "name": "stdout",
     "output_type": "stream",
     "text": [
      "Bienvenue dans le jeu !\n",
      "vous êtes l'emoji 🐶\n",
      "vous êtes l'emoji 🐯\n"
     ]
    },
    {
     "ename": "AttributeError",
     "evalue": "'list' object has no attribute 'nom'",
     "output_type": "error",
     "traceback": [
      "\u001b[0;31m---------------------------------------------------------------------------\u001b[0m",
      "\u001b[0;31mAttributeError\u001b[0m                            Traceback (most recent call last)",
      "Cell \u001b[0;32mIn[2], line 14\u001b[0m\n\u001b[1;32m     11\u001b[0m plateau_du_jeu\u001b[38;5;241m.\u001b[39mcreation_cases()\n\u001b[1;32m     13\u001b[0m partie \u001b[38;5;241m=\u001b[39m Jeu()\n\u001b[0;32m---> 14\u001b[0m \u001b[43mpartie\u001b[49m\u001b[38;5;241;43m.\u001b[39;49m\u001b[43mlancer_jeu\u001b[49m\u001b[43m(\u001b[49m\u001b[43m)\u001b[49m\n",
      "File \u001b[0;32m~/Documents/Simplon/Trivia_poursuite/Triv-IA/jeu.py:115\u001b[0m, in \u001b[0;36mJeu.lancer_jeu\u001b[0;34m(self)\u001b[0m\n\u001b[1;32m    113\u001b[0m \u001b[38;5;28mprint\u001b[39m(\u001b[38;5;124m\"\u001b[39m\u001b[38;5;124mBienvenue dans le jeu !\u001b[39m\u001b[38;5;124m\"\u001b[39m)\n\u001b[1;32m    114\u001b[0m \u001b[38;5;28mself\u001b[39m\u001b[38;5;241m.\u001b[39minitialiser_joueurs()\n\u001b[0;32m--> 115\u001b[0m \u001b[38;5;28;01mwhile\u001b[39;00m \u001b[38;5;129;01mnot\u001b[39;00m \u001b[38;5;28;43mself\u001b[39;49m\u001b[38;5;241;43m.\u001b[39;49m\u001b[43mlancer_manche\u001b[49m\u001b[43m(\u001b[49m\u001b[43m)\u001b[49m:\n\u001b[1;32m    116\u001b[0m   \u001b[38;5;28;01mpass\u001b[39;00m\n",
      "File \u001b[0;32m~/Documents/Simplon/Trivia_poursuite/Triv-IA/jeu.py:39\u001b[0m, in \u001b[0;36mJeu.lancer_manche\u001b[0;34m(self)\u001b[0m\n\u001b[1;32m     37\u001b[0m \u001b[38;5;250m\u001b[39m\u001b[38;5;124;03m\"\"\"Exécute une manche du jeu.\"\"\"\u001b[39;00m\n\u001b[1;32m     38\u001b[0m joueur \u001b[38;5;241m=\u001b[39m \u001b[38;5;28mself\u001b[39m\u001b[38;5;241m.\u001b[39mjoueurs[\u001b[38;5;28mself\u001b[39m\u001b[38;5;241m.\u001b[39mtour_actuel]\n\u001b[0;32m---> 39\u001b[0m \u001b[38;5;28mprint\u001b[39m(\u001b[38;5;124mf\u001b[39m\u001b[38;5;124m\"\u001b[39m\u001b[38;5;130;01m\\n\u001b[39;00m\u001b[38;5;124mC\u001b[39m\u001b[38;5;124m'\u001b[39m\u001b[38;5;124mest au tour de \u001b[39m\u001b[38;5;132;01m{\u001b[39;00m\u001b[43mjoueur\u001b[49m\u001b[38;5;241;43m.\u001b[39;49m\u001b[43mnom\u001b[49m\u001b[38;5;132;01m}\u001b[39;00m\u001b[38;5;124m !\u001b[39m\u001b[38;5;124m\"\u001b[39m)\n\u001b[1;32m     41\u001b[0m \u001b[38;5;66;03m# Lancer le dé\u001b[39;00m\n\u001b[1;32m     42\u001b[0m resultat \u001b[38;5;241m=\u001b[39m joueur\u001b[38;5;241m.\u001b[39mlancer_de()\n",
      "\u001b[0;31mAttributeError\u001b[0m: 'list' object has no attribute 'nom'"
     ]
    }
   ],
   "source": [
    "from case import Case\n",
    "from jeu import Jeu\n",
    "from joueur import Joueur\n",
    "from plateau import Plateau\n",
    "import time\n",
    "import os\n",
    "# clear = os.system('cls' if os.name == 'nt' else 'clear')\n",
    "\n",
    "plateau_du_jeu = Plateau()\n",
    "\n",
    "plateau_du_jeu.creation_cases()\n",
    "\n",
    "partie = Jeu()\n",
    "partie.lancer_jeu()"
   ]
  },
  {
   "cell_type": "code",
   "execution_count": 26,
   "metadata": {},
   "outputs": [
    {
     "name": "stdout",
     "output_type": "stream",
     "text": [
      "Bienvenue dans le jeu !\n",
      "vous êtes l'emoji 🐯\n"
     ]
    }
   ],
   "source": [
    "from case import Case\n",
    "from jeu import Jeu\n",
    "from joueur import Joueur\n",
    "from plateau import Plateau\n",
    "import time\n",
    "import os\n",
    "# clear = os.system('cls' if os.name == 'nt' else 'clear')\n",
    "\n",
    "plateau_du_jeu = Plateau()\n",
    "\n",
    "plateau_du_jeu.creation_cases()\n",
    "\n",
    "partie = Jeu()\n",
    "partie.lancer_jeu()"
   ]
  },
  {
   "cell_type": "code",
   "execution_count": null,
   "metadata": {},
   "outputs": [
    {
     "data": {
      "text/plain": [
       "'111'"
      ]
     },
     "execution_count": 31,
     "metadata": {},
     "output_type": "execute_result"
    }
   ],
   "source": [
    "partie.joueurs[0][0].nom"
   ]
  },
  {
   "cell_type": "code",
   "execution_count": 36,
   "metadata": {},
   "outputs": [
    {
     "data": {
      "text/plain": [
       "'Camembert'"
      ]
     },
     "execution_count": 36,
     "metadata": {},
     "output_type": "execute_result"
    }
   ],
   "source": [
    "partie.plateau.cases[0].type"
   ]
  }
 ],
 "metadata": {
  "kernelspec": {
   "display_name": ".venv",
   "language": "python",
   "name": "python3"
  },
  "language_info": {
   "codemirror_mode": {
    "name": "ipython",
    "version": 3
   },
   "file_extension": ".py",
   "mimetype": "text/x-python",
   "name": "python",
   "nbconvert_exporter": "python",
   "pygments_lexer": "ipython3",
   "version": "3.12.3"
  }
 },
 "nbformat": 4,
 "nbformat_minor": 2
}
